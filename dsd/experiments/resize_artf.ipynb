{
 "cells": [
  {
   "cell_type": "code",
   "execution_count": 12,
   "metadata": {},
   "outputs": [],
   "source": [
    "import pathlib\n",
    "import json \n",
    "import albumentations as A"
   ]
  },
  {
   "cell_type": "code",
   "execution_count": 13,
   "metadata": {},
   "outputs": [],
   "source": [
    "artf_tshirts_train_json_path = \"/home/tlips/Documents/aRTF-Clothes-dataset/data/aRTFClothes/tshirts-train.json\"\n",
    "artf_tshirts_test_json_path = \"/home/tlips/Documents/aRTF-Clothes-dataset/data/aRTFClothes/tshirts-test.json\"\n",
    "artf_tshirts_val_json_path = \"/home/tlips/Documents/aRTF-Clothes-dataset/data/aRTFClothes/tshirts-val.json\""
   ]
  },
  {
   "cell_type": "code",
   "execution_count": 14,
   "metadata": {},
   "outputs": [],
   "source": [
    "\n",
    "# read each annotation. \n",
    "# get the min and max x coord of any keypoint\n",
    "\n",
    "# pad this to a square image\n",
    "\n",
    "# save the image and the new annotations.\n",
    "\n",
    "\n",
    "from albumentations.core.transforms_interface import BoxInternalType\n",
    "from numpy import ndarray\n",
    "\n",
    "\n",
    "class KeypointsCenteredHorizontalCrop(A.DualTransform):\n",
    "    def __init__(self, always_apply=False, p=1.0):\n",
    "        super(KeypointsCenteredHorizontalCrop, self).__init__(always_apply, p)\n",
    "\n",
    "\n",
    "    def apply(self, img,kp, **params):\n",
    "        x_min, x_max = self._get_min_and_max_x_coords(kp, params['image_height'], params['image_width'])\n",
    "        if len(img.shape) == 3:\n",
    "            return img[:, x_min:x_max, :]\n",
    "        else:\n",
    "            # mask \n",
    "            return img[:,x_min:x_max]\n",
    "    \n",
    "\n",
    "    def _get_min_and_max_x_coords(self, keypoints, image_height, image_width, margin = 10):\n",
    "        x_coords = [kp[0] for kp in keypoints]\n",
    "        x_min, x_max = min(x_coords), max(x_coords)\n",
    "        x_min,x_max = round(x_min), round(x_max)\n",
    "\n",
    "        # if possible, add a small margin around the keypoints to avoid 'border keypoints'\n",
    "        xmin = max(0, x_min - margin)\n",
    "        xmax = min(image_width, x_max + margin)\n",
    "\n",
    "        padding = (image_height - (x_max - x_min)) // 2\n",
    "        if padding < 0:\n",
    "            padding = 0\n",
    "        \n",
    "        x_min = max(0, x_min - padding)\n",
    "        x_max = min(image_width, x_max + padding)\n",
    "        return x_min, x_max\n",
    "\n",
    "    def apply_to_keypoints(self, keypoints, **params):\n",
    "        x_min, x_max = self._get_min_and_max_x_coords(keypoints, params['image_height'], params['image_width'])\n",
    "        new_keypoints  = []\n",
    "        for kp in keypoints:\n",
    "            new_keypoints.append([kp[0] - x_min, kp[1], kp[2], kp[3]])\n",
    "\n",
    "        return new_keypoints\n",
    "    \n",
    "    def apply_to_bbox(self, bbox, kp,**params):\n",
    "        x_min, x_max = self._get_min_and_max_x_coords(kp, params['image_height'], params['image_width'])\n",
    "        \n",
    "        bbox_x_min = bbox[0]\n",
    "        bbox_x_max = bbox[2]\n",
    "        bbox_y_min = bbox[1]\n",
    "        bbox_y_max = bbox[3]\n",
    "\n",
    "        new_bbox_x_min = (bbox_x_min * params['image_width'] - x_min) / (x_max - x_min)\n",
    "        new_bbox_x_max = (bbox_x_max * params['image_width'] - x_min) / (x_max - x_min)\n",
    "        \n",
    "        return (new_bbox_x_min, bbox_y_min, new_bbox_x_max, bbox_y_max)\n",
    "    \n",
    "    def get_params_dependent_on_targets(self, params):\n",
    "        # hack to use 'target' as param for other targets\n",
    "        kp = params['keypoints']\n",
    "        image_height, image_width = params['image'].shape[:2]\n",
    "        return {'kp': kp, 'image_height': image_height, 'image_width': image_width}\n",
    "    \n",
    "    @property\n",
    "    def targets_as_params(self):\n",
    "        return ['image', 'keypoints', 'bboxes']"
   ]
  },
  {
   "cell_type": "code",
   "execution_count": null,
   "metadata": {},
   "outputs": [],
   "source": [
    "\n",
    "\n"
   ]
  },
  {
   "cell_type": "code",
   "execution_count": 15,
   "metadata": {},
   "outputs": [
    {
     "name": "stdout",
     "output_type": "stream",
     "text": [
      "['image', 'keypoints', 'bboxes']\n"
     ]
    }
   ],
   "source": [
    "transforms = [\n",
    "    KeypointsCenteredHorizontalCrop(),\n",
    "    A.Resize(512,512)\n",
    "]\n",
    "\n",
    "print(KeypointsCenteredHorizontalCrop().targets_as_params)\n"
   ]
  },
  {
   "cell_type": "code",
   "execution_count": 16,
   "metadata": {},
   "outputs": [],
   "source": [
    "from airo_dataset_tools.coco_tools.transform_dataset import apply_transform_to_coco_dataset\n",
    "from airo_dataset_tools.data_parsers.coco import CocoKeypointsDataset"
   ]
  },
  {
   "cell_type": "code",
   "execution_count": 17,
   "metadata": {},
   "outputs": [
    {
     "name": "stdout",
     "output_type": "stream",
     "text": [
      "42\n"
     ]
    }
   ],
   "source": [
    "artf_tshirts_train_dataset = CocoKeypointsDataset(**json.load(open(artf_tshirts_train_json_path)))\n",
    "artf_tshirts_test_dataset = CocoKeypointsDataset(**json.load(open(artf_tshirts_test_json_path)))\n",
    "artf_tshirts_val_dataset = CocoKeypointsDataset(**json.load(open(artf_tshirts_val_json_path)))\n",
    "\n",
    "\n",
    "print(len(artf_tshirts_val_dataset.annotations))"
   ]
  },
  {
   "cell_type": "code",
   "execution_count": 18,
   "metadata": {},
   "outputs": [
    {
     "name": "stdout",
     "output_type": "stream",
     "text": [
      "Transforming keypoints = True\n",
      "Transforming bbox = True\n",
      "Transforming segmentation = True\n"
     ]
    },
    {
     "name": "stderr",
     "output_type": "stream",
     "text": [
      "100%|██████████| 168/168 [00:15<00:00, 11.19it/s]\n"
     ]
    }
   ],
   "source": [
    "transformed_annotations = apply_transform_to_coco_dataset(\n",
    "    transforms,\n",
    "    coco_dataset=artf_tshirts_train_dataset,\n",
    "    image_path = str(pathlib.Path(artf_tshirts_train_json_path).parent),\n",
    "    target_image_path= str(pathlib.Path(artf_tshirts_train_json_path).parents[1] / \"tshirts-train-kpcentercropped\"),\n",
    ")\n",
    "with open(str(pathlib.Path(artf_tshirts_train_json_path).parents[1] / \"tshirts-train-kpcentercropped\"/ \"annotations.json\"), \"w\") as f:\n",
    "    json.dump(transformed_annotations.model_dump(exclude_none=True), f)\n",
    "\n"
   ]
  },
  {
   "cell_type": "code",
   "execution_count": 19,
   "metadata": {},
   "outputs": [
    {
     "name": "stdout",
     "output_type": "stream",
     "text": [
      "Transforming keypoints = True\n",
      "Transforming bbox = True\n",
      "Transforming segmentation = True\n"
     ]
    },
    {
     "name": "stderr",
     "output_type": "stream",
     "text": [
      "100%|██████████| 400/400 [00:36<00:00, 10.94it/s]\n"
     ]
    }
   ],
   "source": [
    "transformed_annotations = apply_transform_to_coco_dataset(\n",
    "    transforms,\n",
    "    coco_dataset=artf_tshirts_test_dataset,\n",
    "    image_path = str(pathlib.Path(artf_tshirts_test_json_path).parent),\n",
    "    target_image_path= str(pathlib.Path(artf_tshirts_test_json_path).parents[1] / \"tshirts-test-kpcentercropped\"),\n",
    ")\n",
    "with open(str(pathlib.Path(artf_tshirts_test_json_path).parents[1] / \"tshirts-test-kpcentercropped\"/ \"annotations.json\"), \"w\") as f:\n",
    "    json.dump(transformed_annotations.model_dump(exclude_none=True), f)"
   ]
  },
  {
   "cell_type": "code",
   "execution_count": 20,
   "metadata": {},
   "outputs": [
    {
     "name": "stdout",
     "output_type": "stream",
     "text": [
      "Transforming keypoints = True\n",
      "Transforming bbox = True\n",
      "Transforming segmentation = True\n"
     ]
    },
    {
     "name": "stderr",
     "output_type": "stream",
     "text": [
      "100%|██████████| 42/42 [00:03<00:00, 10.96it/s]\n"
     ]
    }
   ],
   "source": [
    "transformed_annotations = apply_transform_to_coco_dataset(\n",
    "    transforms,\n",
    "    coco_dataset=artf_tshirts_val_dataset,\n",
    "    image_path = str(pathlib.Path(artf_tshirts_val_json_path).parent),\n",
    "    target_image_path= str(pathlib.Path(artf_tshirts_val_json_path).parents[1] / \"tshirts-val-kpcentercropped\"),\n",
    ")\n",
    "with open(str(pathlib.Path(artf_tshirts_val_json_path).parents[1] / \"tshirts-val-kpcentercropped\"/ \"annotations.json\"), \"w\") as f:\n",
    "    json.dump(transformed_annotations.model_dump(exclude_none=True), f)"
   ]
  }
 ],
 "metadata": {
  "kernelspec": {
   "display_name": "dsd",
   "language": "python",
   "name": "python3"
  },
  "language_info": {
   "codemirror_mode": {
    "name": "ipython",
    "version": 3
   },
   "file_extension": ".py",
   "mimetype": "text/x-python",
   "name": "python",
   "nbconvert_exporter": "python",
   "pygments_lexer": "ipython3",
   "version": "3.10.13"
  }
 },
 "nbformat": 4,
 "nbformat_minor": 2
}
