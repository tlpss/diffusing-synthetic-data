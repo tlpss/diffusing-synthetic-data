{
 "cells": [
  {
   "cell_type": "code",
   "execution_count": 14,
   "metadata": {},
   "outputs": [],
   "source": [
    "import json \n",
    "import pathlib"
   ]
  },
  {
   "cell_type": "code",
   "execution_count": 24,
   "metadata": {},
   "outputs": [
    {
     "name": "stdout",
     "output_type": "stream",
     "text": [
      "sftp:/paard/home/tlips/Documents/synthetic-cloth-data/synthetic-cloth-data/data/deformed_meshes/TSHIRT/dsd-tshirts\n"
     ]
    }
   ],
   "source": [
    "mesh_dir = \"sftp://paard/home/tlips/Documents/synthetic-cloth-data/synthetic-cloth-data/data/deformed_meshes/TSHIRT/dsd-tshirts\"\n",
    "mesh_dir = pathlib.Path(mesh_dir)\n",
    "print(mesh_dir)"
   ]
  },
  {
   "cell_type": "code",
   "execution_count": 26,
   "metadata": {},
   "outputs": [],
   "source": [
    "meshes = mesh_dir.glob(\"*.obj\")\n",
    "jsons = mesh_dir.glob(\"*.json\")"
   ]
  },
  {
   "cell_type": "code",
   "execution_count": 28,
   "metadata": {},
   "outputs": [
    {
     "name": "stdout",
     "output_type": "stream",
     "text": [
      "0\n"
     ]
    }
   ],
   "source": [
    "print(len(list(jsons)))"
   ]
  },
  {
   "cell_type": "code",
   "execution_count": 30,
   "metadata": {},
   "outputs": [],
   "source": [
    "for file in jsons:\n",
    "    json_dict = json.load(file.open())\n",
    "    coverage = json_dict[\"area\"] / json_dict[\"flat_mesh\"][\"area\"]\n",
    "    print(coverage)"
   ]
  }
 ],
 "metadata": {
  "kernelspec": {
   "display_name": "dsd",
   "language": "python",
   "name": "python3"
  },
  "language_info": {
   "codemirror_mode": {
    "name": "ipython",
    "version": 3
   },
   "file_extension": ".py",
   "mimetype": "text/x-python",
   "name": "python",
   "nbconvert_exporter": "python",
   "pygments_lexer": "ipython3",
   "version": "3.10.14"
  }
 },
 "nbformat": 4,
 "nbformat_minor": 2
}
