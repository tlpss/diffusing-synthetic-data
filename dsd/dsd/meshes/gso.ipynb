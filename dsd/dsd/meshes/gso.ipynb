{
 "cells": [
  {
   "cell_type": "code",
   "execution_count": null,
   "metadata": {},
   "outputs": [],
   "source": [
    "import os \n",
    "GSO_DIR = \"/home/tlips/Documents/diffusing-synthetic-data/data/meshes/shoes/GSO\"\n",
    "\n",
    "meshes = [f for f in os.listdir(GSO_DIR) if f.endswith(\".obj\")]\n",
    "print(len(meshes))\n"
   ]
  },
  {
   "cell_type": "code",
   "execution_count": null,
   "metadata": {},
   "outputs": [],
   "source": [
    "import open3d as o3d\n",
    "import numpy as np\n",
    "import trimesh\n",
    "\n",
    "# visualize first mesh\n",
    "mesh = trimesh.load(os.path.join(GSO_DIR, meshes[0]))\n",
    "mesh.show()\n",
    "\n",
    "# add keypoints\n",
    "keypoints = np.zeros((3,1))\n",
    "keypoints[0] = mesh.vertices[0][0]\n",
    "keypoints[1] = mesh.vertices[0][1]\n",
    "keypoints[2] = mesh.vertices[0][2]\n",
    "\n",
    "# visualize keypoints\n",
    "keypoints = o3d.geometry.PointCloud()\n",
    "keypoints.points = o3d.utility.Vector3dVector(keypoints)\n",
    "o3d.visualization.draw_geometries([keypoints, mesh])\n",
    "\n"
   ]
  }
 ],
 "metadata": {
  "kernelspec": {
   "display_name": "dsd",
   "language": "python",
   "name": "python3"
  },
  "language_info": {
   "codemirror_mode": {
    "name": "ipython",
    "version": 3
   },
   "file_extension": ".py",
   "mimetype": "text/x-python",
   "name": "python",
   "nbconvert_exporter": "python",
   "pygments_lexer": "ipython3",
   "version": "3.10.13"
  }
 },
 "nbformat": 4,
 "nbformat_minor": 2
}
