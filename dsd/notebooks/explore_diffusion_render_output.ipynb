{
 "cells": [
  {
   "cell_type": "code",
   "execution_count": null,
   "metadata": {},
   "outputs": [],
   "source": [
    "from dsd import DATA_DIR \n",
    "\n",
    "DIR = DATA_DIR / \"diffusion_renders\" / \"mugs\" / \"small\"\n",
    "\n",
    "# list all the png files in the subdirs\n",
    "original_render_paths = list(DIR.glob(\"**/rgb.png\"))\n",
    "\n",
    "# get the parent directories\n",
    "render_dirs = [p.parents[1] for p in original_render_paths]\n"
   ]
  },
  {
   "cell_type": "code",
   "execution_count": null,
   "metadata": {},
   "outputs": [],
   "source": [
    "import matplotlib.pyplot as plt\n",
    "from PIL import Image\n",
    "def visualize_render(render_dir, idx_start,idx_stop):\n",
    "    # get subdirs\n",
    "    subdirs = [d for d in render_dir.iterdir() if d.is_dir()]\n",
    "\n",
    "    original_subdir = [d for d in subdirs if d.name == \"original\"][0]\n",
    "    subdirs = [d for d in subdirs if d.name != \"original\"]\n",
    "\n",
    "    # get number of renders in each subdir\n",
    "    num_renders = min([len(list(d.glob(\"*.png\"))) for d in subdirs])\n",
    "    num_cols  = max(idx_stop-idx_start, 2)\n",
    "\n",
    "    # make subplot with (subdir x num_renders) images\n",
    "    fig, axs = plt.subplots(len(subdirs)+1, num_cols, figsize=(3*num_cols, 4*(len(subdirs)+1)))\n",
    "    axs[0, 0].imshow(plt.imread(original_subdir / \"rgb.png\"))\n",
    "    axs[0, 0].set_title(\"original\")\n",
    "    axs[0, 0].axis(\"off\")\n",
    "    for j in range(num_cols - 1):\n",
    "        axs[0, j+1].axis(\"off\")\n",
    "    for i, subdir in enumerate(subdirs):\n",
    "        images = list(subdir.glob(\"*.png\"))\n",
    "        for j in range(idx_start, idx_stop):\n",
    "            axs[i+1, j-idx_start].imshow(plt.imread(images[j]))\n",
    "            axs[i+1, j-idx_start].set_title(f\"{subdir.name} \\n {images[j].name}\", fontsize=6)\n",
    "            axs[i+1, j-idx_start].axis(\"off\")\n",
    "\n",
    "\n"
   ]
  },
  {
   "cell_type": "code",
   "execution_count": null,
   "metadata": {},
   "outputs": [],
   "source": [
    "visualize_render(render_dirs[6],0,4)"
   ]
  },
  {
   "cell_type": "code",
   "execution_count": null,
   "metadata": {},
   "outputs": [],
   "source": [
    "# create widget to select render\n",
    "from ipywidgets import interact, interactive, fixed, interact_manual\n",
    "import ipywidgets as widgets\n",
    "from IPython.display import display\n",
    "import os\n",
    "\n",
    "def f(x):\n",
    "    visualize_render(render_dirs[x],0,4)\n",
    "\n",
    "def g(x):\n",
    "    print(x)\n",
    "\n",
    "interact(g, x=widgets.IntSlider(min=0, max=len(render_dirs)-1, step=1, value=0))"
   ]
  },
  {
   "cell_type": "code",
   "execution_count": null,
   "metadata": {},
   "outputs": [],
   "source": []
  }
 ],
 "metadata": {
  "kernelspec": {
   "display_name": "dsd",
   "language": "python",
   "name": "python3"
  },
  "language_info": {
   "codemirror_mode": {
    "name": "ipython",
    "version": 3
   },
   "file_extension": ".py",
   "mimetype": "text/x-python",
   "name": "python",
   "nbconvert_exporter": "python",
   "pygments_lexer": "ipython3",
   "version": "3.10.13"
  }
 },
 "nbformat": 4,
 "nbformat_minor": 2
}
