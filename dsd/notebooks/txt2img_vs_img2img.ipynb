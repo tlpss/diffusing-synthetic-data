{
 "cells": [
  {
   "cell_type": "code",
   "execution_count": 1,
   "metadata": {},
   "outputs": [],
   "source": [
    "# auto reload\n",
    "\n",
    "%load_ext autoreload\n",
    "%autoreload 2"
   ]
  },
  {
   "cell_type": "code",
   "execution_count": 2,
   "metadata": {},
   "outputs": [],
   "source": [
    "from dsd import DATA_DIR\n",
    "from dsd.diffusion_rendering import *\n",
    "\n",
    "\n"
   ]
  },
  {
   "cell_type": "code",
   "execution_count": null,
   "metadata": {},
   "outputs": [],
   "source": [
    "image_dir = DATA_DIR / \"renders/mugs/10/ACE_Coffee_Mug_Kristen/000\"\n",
    "input_images = DiffusionRenderInputImages.from_render_dir(image_dir)\n",
    "#input_images.depth_image[input_images.depth_image > 1.0] = 1.0\n"
   ]
  },
  {
   "cell_type": "code",
   "execution_count": null,
   "metadata": {},
   "outputs": [],
   "source": [
    "import matplotlib.pyplot as plt\n",
    "def visualize_results(rgb,control, images):\n",
    "    # plot original image and depth, as well as the processed images\n",
    "    fig, axes = plt.subplots(1, 6, figsize=(20, 5))\n",
    "    axes[0].imshow(rgb)\n",
    "    axes[0].set_title(\"RGB\")\n",
    "    axes[1].imshow(control)\n",
    "    axes[1].set_title(\"Control Image\")\n",
    "    axes[2].imshow(images[0])\n",
    "    axes[2].set_title(\"prompted\")\n",
    "    axes[3].imshow(images[1])\n",
    "    axes[3].set_title(\"prompted\")\n",
    "    axes[4].imshow(images[2])\n",
    "    axes[4].set_title(\"prompted\")\n",
    "    axes[5].imshow(images[3])\n",
    "    axes[5].set_title(\"prompted\")\n",
    "    plt.show()"
   ]
  },
  {
   "cell_type": "code",
   "execution_count": null,
   "metadata": {},
   "outputs": [],
   "source": [
    "strength = 1.0\n",
    "controlnet_conditioning_scale = 1.3\n",
    "n_steps = 5\n",
    "prompt = \"a blue mug, photorealistic\""
   ]
  },
  {
   "cell_type": "code",
   "execution_count": null,
   "metadata": {},
   "outputs": [
    {
     "ename": "NameError",
     "evalue": "name 'ControlNetTXTFromDepthRenderer' is not defined",
     "output_type": "error",
     "traceback": [
      "\u001b[0;31m---------------------------------------------------------------------------\u001b[0m",
      "\u001b[0;31mNameError\u001b[0m                                 Traceback (most recent call last)",
      "Cell \u001b[0;32mIn[3], line 1\u001b[0m\n\u001b[0;32m----> 1\u001b[0m renderer \u001b[38;5;241m=\u001b[39m \u001b[43mControlNetTXTFromDepthRenderer\u001b[49m(num_inference_steps\u001b[38;5;241m=\u001b[39m\u001b[38;5;241m50\u001b[39m,controlnet_conditioning_scale\u001b[38;5;241m=\u001b[39mcontrolnet_conditioning_scale,strength\u001b[38;5;241m=\u001b[39mstrength)\n\u001b[1;32m      2\u001b[0m images \u001b[38;5;241m=\u001b[39m renderer(prompt, input_images)\n\u001b[1;32m      3\u001b[0m visualize_results(input_images\u001b[38;5;241m.\u001b[39mrgb_image, renderer\u001b[38;5;241m.\u001b[39mget_control_image(input_images)[\u001b[38;5;241m0\u001b[39m]\u001b[38;5;241m.\u001b[39mnumpy()\u001b[38;5;241m.\u001b[39mtranspose(\u001b[38;5;241m1\u001b[39m,\u001b[38;5;241m2\u001b[39m,\u001b[38;5;241m0\u001b[39m),images)\n",
      "\u001b[0;31mNameError\u001b[0m: name 'ControlNetTXTFromDepthRenderer' is not defined"
     ]
    }
   ],
   "source": [
    "\n",
    "renderer = ControlNetTXTFromDepthRenderer(num_inference_steps=50,controlnet_conditioning_scale=controlnet_conditioning_scale,strength=strength)\n",
    "images = renderer(prompt, input_images)\n",
    "visualize_results(input_images.rgb_image, renderer.get_control_image(input_images)[0].numpy().transpose(1,2,0),images)"
   ]
  },
  {
   "cell_type": "code",
   "execution_count": null,
   "metadata": {},
   "outputs": [],
   "source": [
    "\n",
    "renderer = ControlNetFromDepthRenderer(num_inference_steps=50,controlnet_conditioning_scale=controlnet_conditioning_scale,strength=strength)\n",
    "images = renderer(prompt, input_images)\n",
    "visualize_results(input_images.rgb_image, renderer.get_control_image(input_images)[0].numpy().transpose(1,2,0),images)"
   ]
  },
  {
   "cell_type": "code",
   "execution_count": null,
   "metadata": {},
   "outputs": [],
   "source": []
  },
  {
   "cell_type": "code",
   "execution_count": null,
   "metadata": {},
   "outputs": [],
   "source": []
  },
  {
   "cell_type": "code",
   "execution_count": null,
   "metadata": {},
   "outputs": [],
   "source": []
  }
 ],
 "metadata": {
  "kernelspec": {
   "display_name": "dsd",
   "language": "python",
   "name": "python3"
  },
  "language_info": {
   "codemirror_mode": {
    "name": "ipython",
    "version": 3
   },
   "file_extension": ".py",
   "mimetype": "text/x-python",
   "name": "python",
   "nbconvert_exporter": "python",
   "pygments_lexer": "ipython3",
   "version": "3.10.13"
  }
 },
 "nbformat": 4,
 "nbformat_minor": 2
}
