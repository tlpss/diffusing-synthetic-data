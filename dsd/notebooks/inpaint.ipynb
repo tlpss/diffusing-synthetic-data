{
 "cells": [
  {
   "cell_type": "code",
   "execution_count": null,
   "metadata": {},
   "outputs": [],
   "source": [
    "import PIL\n",
    "import numpy as np\n",
    "import torch\n",
    "\n",
    "from diffusers import AutoPipelineForInpainting\n",
    "from diffusers.utils import load_image, make_image_grid\n",
    "\n",
    "# device = \"cuda\"\n",
    "# pipeline = AutoPipelineForInpainting.from_pretrained(\n",
    "#     \"runwayml/stable-diffusion-inpainting\",\n",
    "#     torch_dtype=torch.float16,\n",
    "# )\n",
    "# pipeline = pipeline.to(device)\n",
    "\n"
   ]
  },
  {
   "cell_type": "code",
   "execution_count": null,
   "metadata": {},
   "outputs": [],
   "source": [
    "from diffusers.pipelines import StableDiffusionInpaintPipeline\n",
    "pipeline  = StableDiffusionInpaintPipeline.from_pretrained(\n",
    "            \"stabilityai/stable-diffusion-2-inpainting\",\n",
    "            torch_dtype=torch.float16,\n",
    "        ).to(\"cuda\")\n"
   ]
  },
  {
   "cell_type": "code",
   "execution_count": null,
   "metadata": {},
   "outputs": [],
   "source": [
    "from PIL import Image\n",
    "import cv2\n",
    "img_url = \"/home/tlips/Documents/diffusing-synthetic-data/data/diffusion_renders/mugs/run_9/4a2fe98254114412b73b6b831b1a38a4/000/CropAndInpaintRenderer/A light yellow  mug with a glazed finish, Photorealistic+a bamboo table with a natural, sustainable feel_0.png\"\n",
    "mask_url = \"/home/tlips/Documents/diffusing-synthetic-data/data/diffusion_renders/mugs/run_9/4a2fe98254114412b73b6b831b1a38a4/000/original/segmentation.png\"\n",
    "\n",
    "init_image = load_image(img_url).resize((512, 512))\n",
    "mask_image = load_image(mask_url).resize((512, 512))\n",
    "original_mask_image = mask_image\n",
    "mask_image = 1.0*(np.array(mask_image) > 0)\n",
    "mask_image = cv2.dilate(mask_image, np.ones((5,5), np.uint8), iterations=1)\n",
    "\n",
    "mask_image = 1- mask_image * 1.0\n",
    "mask_image = Image.fromarray((mask_image*255).astype(np.uint8))\n",
    "\n",
    "\n",
    "prompt = \"a black wooden table\"\n",
    "repainted_image = pipeline(prompt=prompt, image=init_image, mask_image=mask_image,num_images_per_prompt=2).images[0]\n",
    "#repainted_image.save(\"repainted_image.png\")\n",
    "\n",
    "unmasked_unchanged_image = pipeline.image_processor.apply_overlay(original_mask_image, repainted_image,init_image)\n",
    "#unmasked_unchanged_image = Image.blend(unmasked_unchanged_image,original_mask_image, 0.5)\n",
    "#unmasked_unchanged_image.ave(\"force_unmasked_unchanged.png\")\n",
    "make_image_grid([init_image, mask_image, repainted_image, unmasked_unchanged_image], rows=2, cols=2)"
   ]
  }
 ],
 "metadata": {
  "kernelspec": {
   "display_name": "dsd",
   "language": "python",
   "name": "python3"
  },
  "language_info": {
   "codemirror_mode": {
    "name": "ipython",
    "version": 3
   },
   "file_extension": ".py",
   "mimetype": "text/x-python",
   "name": "python",
   "nbconvert_exporter": "python",
   "pygments_lexer": "ipython3",
   "version": "3.10.13"
  }
 },
 "nbformat": 4,
 "nbformat_minor": 2
}
