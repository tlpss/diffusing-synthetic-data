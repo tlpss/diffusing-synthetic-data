{
 "cells": [
  {
   "cell_type": "code",
   "execution_count": 1,
   "metadata": {},
   "outputs": [],
   "source": [
    "import os\n",
    "from PIL import Image\n",
    "\n",
    "def find_empty_masks(root_dir):\n",
    "    \"\"\"Finds segmentation.png files with zero mask size within a directory.\n",
    "\n",
    "    Args:\n",
    "        root_dir: The root directory to start the search from.\n",
    "    \"\"\"\n",
    "\n",
    "    for dirpath, _, filenames in os.walk(root_dir):\n",
    "        for filename in filenames:\n",
    "            if filename.lower() == 'segmentation.png':\n",
    "                filepath = os.path.join(dirpath, filename)\n",
    "                try:\n",
    "                    with Image.open(filepath) as img:\n",
    "                        # Get non-zero pixel data (this assumes your masks are black-and-white)\n",
    "                        mask_data = img.getdata(band=0)  \n",
    "\n",
    "                        # Check if all pixels are zero\n",
    "                        if not any(mask_data): \n",
    "                            print(\"Empty mask found:\", filepath)\n",
    "\n",
    "                except OSError:\n",
    "                    print(\"Error opening file:\", filepath)\n",
    "\n",
    "# Example usage\n",
    "root_directory = '/path/to/your/directory'  # Replace with the actual path\n",
    "find_empty_masks(root_directory)\n"
   ]
  },
  {
   "cell_type": "code",
   "execution_count": 2,
   "metadata": {},
   "outputs": [
    {
     "name": "stdout",
     "output_type": "stream",
     "text": [
      "Empty mask found: /fast_storage_2/symlinked_homes/tlips/Documents/Documents/diffusing-synthetic-data/data/renders/mugs/objaverse-2500/85f1874605a44d239e11fefa2e548cb2/018/segmentation.png\n",
      "Empty mask found: /fast_storage_2/symlinked_homes/tlips/Documents/Documents/diffusing-synthetic-data/data/renders/mugs/objaverse-2500/85f1874605a44d239e11fefa2e548cb2/013/segmentation.png\n",
      "Empty mask found: /fast_storage_2/symlinked_homes/tlips/Documents/Documents/diffusing-synthetic-data/data/renders/mugs/objaverse-2500/85f1874605a44d239e11fefa2e548cb2/009/segmentation.png\n",
      "Empty mask found: /fast_storage_2/symlinked_homes/tlips/Documents/Documents/diffusing-synthetic-data/data/renders/mugs/objaverse-2500/85f1874605a44d239e11fefa2e548cb2/003/segmentation.png\n",
      "Empty mask found: /fast_storage_2/symlinked_homes/tlips/Documents/Documents/diffusing-synthetic-data/data/renders/mugs/objaverse-2500/85f1874605a44d239e11fefa2e548cb2/014/segmentation.png\n",
      "Empty mask found: /fast_storage_2/symlinked_homes/tlips/Documents/Documents/diffusing-synthetic-data/data/renders/mugs/objaverse-2500/85f1874605a44d239e11fefa2e548cb2/005/segmentation.png\n",
      "Empty mask found: /fast_storage_2/symlinked_homes/tlips/Documents/Documents/diffusing-synthetic-data/data/renders/mugs/objaverse-2500/85f1874605a44d239e11fefa2e548cb2/019/segmentation.png\n",
      "Empty mask found: /fast_storage_2/symlinked_homes/tlips/Documents/Documents/diffusing-synthetic-data/data/renders/mugs/objaverse-2500/85f1874605a44d239e11fefa2e548cb2/011/segmentation.png\n",
      "Empty mask found: /fast_storage_2/symlinked_homes/tlips/Documents/Documents/diffusing-synthetic-data/data/renders/mugs/objaverse-2500/85f1874605a44d239e11fefa2e548cb2/012/segmentation.png\n",
      "Empty mask found: /fast_storage_2/symlinked_homes/tlips/Documents/Documents/diffusing-synthetic-data/data/renders/mugs/objaverse-2500/85f1874605a44d239e11fefa2e548cb2/007/segmentation.png\n",
      "Empty mask found: /fast_storage_2/symlinked_homes/tlips/Documents/Documents/diffusing-synthetic-data/data/renders/mugs/objaverse-2500/85f1874605a44d239e11fefa2e548cb2/000/segmentation.png\n",
      "Empty mask found: /fast_storage_2/symlinked_homes/tlips/Documents/Documents/diffusing-synthetic-data/data/renders/mugs/objaverse-2500/85f1874605a44d239e11fefa2e548cb2/002/segmentation.png\n",
      "Empty mask found: /fast_storage_2/symlinked_homes/tlips/Documents/Documents/diffusing-synthetic-data/data/renders/mugs/objaverse-2500/85f1874605a44d239e11fefa2e548cb2/017/segmentation.png\n",
      "Empty mask found: /fast_storage_2/symlinked_homes/tlips/Documents/Documents/diffusing-synthetic-data/data/renders/mugs/objaverse-2500/85f1874605a44d239e11fefa2e548cb2/016/segmentation.png\n",
      "Empty mask found: /fast_storage_2/symlinked_homes/tlips/Documents/Documents/diffusing-synthetic-data/data/renders/mugs/objaverse-2500/85f1874605a44d239e11fefa2e548cb2/010/segmentation.png\n",
      "Empty mask found: /fast_storage_2/symlinked_homes/tlips/Documents/Documents/diffusing-synthetic-data/data/renders/mugs/objaverse-2500/85f1874605a44d239e11fefa2e548cb2/004/segmentation.png\n",
      "Empty mask found: /fast_storage_2/symlinked_homes/tlips/Documents/Documents/diffusing-synthetic-data/data/renders/mugs/objaverse-2500/85f1874605a44d239e11fefa2e548cb2/015/segmentation.png\n",
      "Empty mask found: /fast_storage_2/symlinked_homes/tlips/Documents/Documents/diffusing-synthetic-data/data/renders/mugs/objaverse-2500/85f1874605a44d239e11fefa2e548cb2/008/segmentation.png\n",
      "Empty mask found: /fast_storage_2/symlinked_homes/tlips/Documents/Documents/diffusing-synthetic-data/data/renders/mugs/objaverse-2500/85f1874605a44d239e11fefa2e548cb2/006/segmentation.png\n",
      "Empty mask found: /fast_storage_2/symlinked_homes/tlips/Documents/Documents/diffusing-synthetic-data/data/renders/mugs/objaverse-2500/85f1874605a44d239e11fefa2e548cb2/001/segmentation.png\n"
     ]
    }
   ],
   "source": [
    "from dsd import DATA_DIR\n",
    "dir = DATA_DIR / \"renders\" / \"mugs\" / \"objaverse-2500\"\n",
    "find_empty_masks(dir)"
   ]
  }
 ],
 "metadata": {
  "kernelspec": {
   "display_name": "dsd",
   "language": "python",
   "name": "python3"
  },
  "language_info": {
   "codemirror_mode": {
    "name": "ipython",
    "version": 3
   },
   "file_extension": ".py",
   "mimetype": "text/x-python",
   "name": "python",
   "nbconvert_exporter": "python",
   "pygments_lexer": "ipython3",
   "version": "3.1.undefined"
  }
 },
 "nbformat": 4,
 "nbformat_minor": 2
}
