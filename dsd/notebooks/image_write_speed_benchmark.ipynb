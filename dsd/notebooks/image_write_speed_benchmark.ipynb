{
 "cells": [
  {
   "cell_type": "code",
   "execution_count": 3,
   "metadata": {},
   "outputs": [
    {
     "name": "stdout",
     "output_type": "stream",
     "text": [
      "Benchmark completed with 100 iterations.\n",
      "Total time: 0.64 seconds\n",
      "Average write time per image: 6.40 milliseconds\n"
     ]
    }
   ],
   "source": [
    "from PIL import Image\n",
    "import time\n",
    "\n",
    "def benchmark_write_speed(num_iterations=100):\n",
    "  \"\"\"\n",
    "  Benchmarks the write speed for a 512x512 image using Pillow.\n",
    "\n",
    "  Args:\n",
    "      num_iterations: Number of iterations to perform for averaging.\n",
    "  \"\"\"\n",
    "  # Create a sample 512x512 image filled with white pixels\n",
    "  image = Image.new('RGB', (512, 512), color=(255, 255, 255))\n",
    "\n",
    "  # Start timer\n",
    "  start_time = time.time()\n",
    "\n",
    "  # Perform write operations\n",
    "  for _ in range(num_iterations):\n",
    "    image.save(DATA_DIR/ \"benchmark_image.png\")\n",
    "\n",
    "  # Stop timer\n",
    "  end_time = time.time()\n",
    "\n",
    "  # Calculate total time and average time per image\n",
    "  total_time = end_time - start_time\n",
    "  avg_time_per_image = total_time / num_iterations\n",
    "\n",
    "  # Print results\n",
    "  print(f\"Benchmark completed with {num_iterations} iterations.\")\n",
    "  print(f\"Total time: {total_time:.2f} seconds\")\n",
    "  print(f\"Average write time per image: {avg_time_per_image * 1000:.2f} milliseconds\")\n",
    "\n",
    "# Run the benchmark\n",
    "benchmark_write_speed()\n"
   ]
  },
  {
   "cell_type": "code",
   "execution_count": 2,
   "metadata": {},
   "outputs": [],
   "source": [
    "from dsd import DATA_DIR "
   ]
  }
 ],
 "metadata": {
  "kernelspec": {
   "display_name": "dsd",
   "language": "python",
   "name": "python3"
  },
  "language_info": {
   "codemirror_mode": {
    "name": "ipython",
    "version": 3
   },
   "file_extension": ".py",
   "mimetype": "text/x-python",
   "name": "python",
   "nbconvert_exporter": "python",
   "pygments_lexer": "ipython3",
   "version": "3.10.13"
  }
 },
 "nbformat": 4,
 "nbformat_minor": 2
}
